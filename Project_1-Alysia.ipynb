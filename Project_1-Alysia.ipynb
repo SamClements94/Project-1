{
 "cells": [
  {
   "cell_type": "code",
   "execution_count": 3,
   "metadata": {},
   "outputs": [
    {
     "name": "stdout",
     "output_type": "stream",
     "text": [
      "Requirement already up-to-date: epiweeks in c:\\users\\user\\anaconda3\\lib\\site-packages (2.1.2)\n",
      "Requirement already satisfied: Census in c:\\users\\user\\anaconda3\\lib\\site-packages (0.8.17)\n",
      "Requirement already satisfied: requests>=1.1.0 in c:\\users\\user\\anaconda3\\lib\\site-packages (from Census) (2.24.0)\n",
      "Requirement already satisfied: certifi>=2017.4.17 in c:\\users\\user\\anaconda3\\lib\\site-packages (from requests>=1.1.0->Census) (2020.6.20)\n",
      "Requirement already satisfied: chardet<4,>=3.0.2 in c:\\users\\user\\anaconda3\\lib\\site-packages (from requests>=1.1.0->Census) (3.0.4)\n",
      "Requirement already satisfied: idna<3,>=2.5 in c:\\users\\user\\anaconda3\\lib\\site-packages (from requests>=1.1.0->Census) (2.10)\n",
      "Requirement already satisfied: urllib3!=1.25.0,!=1.25.1,<1.26,>=1.21.1 in c:\\users\\user\\anaconda3\\lib\\site-packages (from requests>=1.1.0->Census) (1.25.11)\n"
     ]
    }
   ],
   "source": [
    "import numpy as np\n",
    "import pandas as pd\n",
    "import matplotlib.pyplot as plt\n",
    "#from Census import Census\n",
    "#from us import states\n",
    "import requests\n",
    "import json\n",
    "\n",
    "#pip istall only needs to be ran once then this code can be removed\n",
    "!pip install -U epiweeks\n",
    "import epiweeks as ew\n",
    "\n",
    "!pip install Census\n",
    "\n",
    "# Census API Key\n",
    "from config import api_key\n",
    "#c = Census(api_key)\n",
    "c = api_key\n"
   ]
  },
  {
   "cell_type": "code",
   "execution_count": 63,
   "metadata": {},
   "outputs": [
    {
     "name": "stderr",
     "output_type": "stream",
     "text": [
      "C:\\Users\\User\\anaconda3\\lib\\site-packages\\IPython\\core\\interactiveshell.py:3146: DtypeWarning: Columns (5) have mixed types.Specify dtype option on import or set low_memory=False.\n",
      "  has_raised = await self.run_ast_nodes(code_ast.body, cell_name,\n"
     ]
    },
    {
     "data": {
      "text/html": [
       "<div>\n",
       "<style scoped>\n",
       "    .dataframe tbody tr th:only-of-type {\n",
       "        vertical-align: middle;\n",
       "    }\n",
       "\n",
       "    .dataframe tbody tr th {\n",
       "        vertical-align: top;\n",
       "    }\n",
       "\n",
       "    .dataframe thead th {\n",
       "        text-align: right;\n",
       "    }\n",
       "</style>\n",
       "<table border=\"1\" class=\"dataframe\">\n",
       "  <thead>\n",
       "    <tr style=\"text-align: right;\">\n",
       "      <th></th>\n",
       "      <th>epi_week</th>\n",
       "      <th>state</th>\n",
       "      <th>loc</th>\n",
       "      <th>loc_type</th>\n",
       "      <th>disease</th>\n",
       "      <th>cases</th>\n",
       "      <th>incidence_per_100000</th>\n",
       "    </tr>\n",
       "  </thead>\n",
       "  <tbody>\n",
       "    <tr>\n",
       "      <th>0</th>\n",
       "      <td>196601</td>\n",
       "      <td>MN</td>\n",
       "      <td>MINNESOTA</td>\n",
       "      <td>STATE</td>\n",
       "      <td>HEPATITIS A</td>\n",
       "      <td>3</td>\n",
       "      <td>0.08</td>\n",
       "    </tr>\n",
       "    <tr>\n",
       "      <th>1</th>\n",
       "      <td>196601</td>\n",
       "      <td>CO</td>\n",
       "      <td>COLORADO</td>\n",
       "      <td>STATE</td>\n",
       "      <td>HEPATITIS A</td>\n",
       "      <td>1</td>\n",
       "      <td>0.05</td>\n",
       "    </tr>\n",
       "    <tr>\n",
       "      <th>2</th>\n",
       "      <td>196601</td>\n",
       "      <td>AZ</td>\n",
       "      <td>ARIZONA</td>\n",
       "      <td>STATE</td>\n",
       "      <td>HEPATITIS A</td>\n",
       "      <td>6</td>\n",
       "      <td>0.37</td>\n",
       "    </tr>\n",
       "    <tr>\n",
       "      <th>3</th>\n",
       "      <td>196601</td>\n",
       "      <td>MT</td>\n",
       "      <td>MONTANA</td>\n",
       "      <td>STATE</td>\n",
       "      <td>HEPATITIS A</td>\n",
       "      <td>2</td>\n",
       "      <td>0.28</td>\n",
       "    </tr>\n",
       "    <tr>\n",
       "      <th>4</th>\n",
       "      <td>196601</td>\n",
       "      <td>LA</td>\n",
       "      <td>LOUISIANA</td>\n",
       "      <td>STATE</td>\n",
       "      <td>HEPATITIS A</td>\n",
       "      <td>1</td>\n",
       "      <td>0.03</td>\n",
       "    </tr>\n",
       "    <tr>\n",
       "      <th>...</th>\n",
       "      <td>...</td>\n",
       "      <td>...</td>\n",
       "      <td>...</td>\n",
       "      <td>...</td>\n",
       "      <td>...</td>\n",
       "      <td>...</td>\n",
       "      <td>...</td>\n",
       "    </tr>\n",
       "    <tr>\n",
       "      <th>759462</th>\n",
       "      <td>194752</td>\n",
       "      <td>WI</td>\n",
       "      <td>SUPERIOR</td>\n",
       "      <td>CITY</td>\n",
       "      <td>DIPHTHERIA</td>\n",
       "      <td>0</td>\n",
       "      <td>0.00</td>\n",
       "    </tr>\n",
       "    <tr>\n",
       "      <th>759463</th>\n",
       "      <td>194752</td>\n",
       "      <td>FL</td>\n",
       "      <td>TAMPA</td>\n",
       "      <td>CITY</td>\n",
       "      <td>DIPHTHERIA</td>\n",
       "      <td>0</td>\n",
       "      <td>0.00</td>\n",
       "    </tr>\n",
       "    <tr>\n",
       "      <th>759464</th>\n",
       "      <td>194752</td>\n",
       "      <td>CO</td>\n",
       "      <td>DENVER</td>\n",
       "      <td>CITY</td>\n",
       "      <td>DIPHTHERIA</td>\n",
       "      <td>1</td>\n",
       "      <td>0.25</td>\n",
       "    </tr>\n",
       "    <tr>\n",
       "      <th>759465</th>\n",
       "      <td>194752</td>\n",
       "      <td>NY</td>\n",
       "      <td>BUFFALO</td>\n",
       "      <td>CITY</td>\n",
       "      <td>DIPHTHERIA</td>\n",
       "      <td>2</td>\n",
       "      <td>0.35</td>\n",
       "    </tr>\n",
       "    <tr>\n",
       "      <th>759466</th>\n",
       "      <td>194752</td>\n",
       "      <td>UT</td>\n",
       "      <td>SALT LAKE CITY</td>\n",
       "      <td>CITY</td>\n",
       "      <td>DIPHTHERIA</td>\n",
       "      <td>0</td>\n",
       "      <td>0.00</td>\n",
       "    </tr>\n",
       "  </tbody>\n",
       "</table>\n",
       "<p>759467 rows × 7 columns</p>\n",
       "</div>"
      ],
      "text/plain": [
       "        epi_week state             loc loc_type      disease cases  \\\n",
       "0         196601    MN       MINNESOTA    STATE  HEPATITIS A     3   \n",
       "1         196601    CO        COLORADO    STATE  HEPATITIS A     1   \n",
       "2         196601    AZ         ARIZONA    STATE  HEPATITIS A     6   \n",
       "3         196601    MT         MONTANA    STATE  HEPATITIS A     2   \n",
       "4         196601    LA       LOUISIANA    STATE  HEPATITIS A     1   \n",
       "...          ...   ...             ...      ...          ...   ...   \n",
       "759462    194752    WI        SUPERIOR     CITY   DIPHTHERIA     0   \n",
       "759463    194752    FL           TAMPA     CITY   DIPHTHERIA     0   \n",
       "759464    194752    CO          DENVER     CITY   DIPHTHERIA     1   \n",
       "759465    194752    NY         BUFFALO     CITY   DIPHTHERIA     2   \n",
       "759466    194752    UT  SALT LAKE CITY     CITY   DIPHTHERIA     0   \n",
       "\n",
       "        incidence_per_100000  \n",
       "0                       0.08  \n",
       "1                       0.05  \n",
       "2                       0.37  \n",
       "3                       0.28  \n",
       "4                       0.03  \n",
       "...                      ...  \n",
       "759462                  0.00  \n",
       "759463                  0.00  \n",
       "759464                  0.25  \n",
       "759465                  0.35  \n",
       "759466                  0.00  \n",
       "\n",
       "[759467 rows x 7 columns]"
      ]
     },
     "execution_count": 63,
     "metadata": {},
     "output_type": "execute_result"
    }
   ],
   "source": [
    "#Disease CSV data: issues are traslating 'epiweek' column into a year, data frame will need to be shortened to only inlude years 2005-2010\n",
    "\n",
    "disease_df = pd.read_csv(\"diseases_us_1916_to_2011.csv\")\n",
    "\n",
    "disease_df\n"
   ]
  },
  {
   "cell_type": "code",
   "execution_count": 66,
   "metadata": {},
   "outputs": [
    {
     "name": "stderr",
     "output_type": "stream",
     "text": [
      "<ipython-input-66-ee68f2cd4180>:4: SettingWithCopyWarning: \n",
      "A value is trying to be set on a copy of a slice from a DataFrame.\n",
      "Try using .loc[row_indexer,col_indexer] = value instead\n",
      "\n",
      "See the caveats in the documentation: https://pandas.pydata.org/pandas-docs/stable/user_guide/indexing.html#returning-a-view-versus-a-copy\n",
      "  disease_df[\"cases\"]=disease_df[\"cases\"].astype(str).replace(\"\\\\N\",np.nan)\n"
     ]
    },
    {
     "data": {
      "text/plain": [
       "0         3\n",
       "1         1\n",
       "2         6\n",
       "3         2\n",
       "4         1\n",
       "         ..\n",
       "759462    0\n",
       "759463    0\n",
       "759464    1\n",
       "759465    2\n",
       "759466    0\n",
       "Name: cases, Length: 759420, dtype: int32"
      ]
     },
     "execution_count": 66,
     "metadata": {},
     "output_type": "execute_result"
    }
   ],
   "source": [
    "# Disease CSV data: Issues with the 'cases' column being listed as an object when it should be an integer or float\n",
    "disease_df.dtypes\n",
    "\n",
    "disease_df[\"cases\"]=disease_df[\"cases\"].astype(str).replace(\"\\\\N\",np.nan)\n",
    "disease_df=disease_df.dropna(how=\"any\")\n",
    "disease_df[\"cases\"].astype(int)"
   ]
  },
  {
   "cell_type": "code",
   "execution_count": null,
   "metadata": {},
   "outputs": [],
   "source": [
    "#Census Data: This is how to pull household income and populaton data from the ACS5 census using the pandas census module(group has decided we will probably not use this method):\n",
    "#Issues include having troube pulling multiple years as well as the state column coming in s a number rather than a state name.\n",
    "\n",
    "census_data = c.acs5.get((\"NAME\", \"B01003_001E\",\"B19013_001E\"), {'for': 'state:*'}, year=2010)\n",
    "\n",
    "# Convert to DataFrame\n",
    "census_pd = pd.DataFrame(census_data)\n",
    "\n",
    "# Column Reordering\n",
    "census_pd = census_pd.rename(columns={\"B01003_001E\": \"Population\",\n",
    "                                      \"B19013_001E\": \"Household Income\",\n",
    "                                      \"NAME\": \"Name\", \n",
    "                                      \"state\": \"State\"})\n",
    "\n",
    "census_pd = census_pd[[\"State\", \"Population\", \"Household Income\"]]\n",
    "print(len(census_pd))\n",
    "census_pd.head()"
   ]
  },
  {
   "cell_type": "code",
   "execution_count": null,
   "metadata": {},
   "outputs": [],
   "source": [
    "#Below is the alternate way to pull census income data from the ACS5 using the URL"
   ]
  },
  {
   "cell_type": "code",
   "execution_count": null,
   "metadata": {},
   "outputs": [],
   "source": [
    "year=2010\n",
    "target_url = f\"https://api.census.gov/data/{year}/acs/acs5?get=NAME,B01003_001E,B19013_001E&for=state:*&key={api_key}\"\n",
    "income_data = requests.get(target_url).json()"
   ]
  },
  {
   "cell_type": "code",
   "execution_count": null,
   "metadata": {},
   "outputs": [],
   "source": [
    "#print the Json data with formatting\n",
    "print(json.dumps(income_data, indent=4, sort_keys=True))"
   ]
  },
  {
   "cell_type": "code",
   "execution_count": null,
   "metadata": {},
   "outputs": [],
   "source": [
    "#reading the census Json data into a dataframe. issues include translating the state names into state abreviations to match the disease data frame, dropping the frst row, and renaming the columns\n",
    "Income_df = pd.DataFrame(income_data)\n",
    "Income_df \n"
   ]
  },
  {
   "cell_type": "code",
   "execution_count": null,
   "metadata": {},
   "outputs": [],
   "source": [
    "#Firt row dropped\n",
    "income_df.drop(index=income_df.index[0],axis=0,inplace=True)\n",
    "income_df"
   ]
  },
  {
   "cell_type": "code",
   "execution_count": null,
   "metadata": {},
   "outputs": [],
   "source": []
  }
 ],
 "metadata": {
  "kernelspec": {
   "display_name": "Python 3",
   "language": "python",
   "name": "python3"
  },
  "language_info": {
   "codemirror_mode": {
    "name": "ipython",
    "version": 3
   },
   "file_extension": ".py",
   "mimetype": "text/x-python",
   "name": "python",
   "nbconvert_exporter": "python",
   "pygments_lexer": "ipython3",
   "version": "3.8.5"
  }
 },
 "nbformat": 4,
 "nbformat_minor": 4
}
